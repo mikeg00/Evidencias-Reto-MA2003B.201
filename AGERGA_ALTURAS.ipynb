{
  "nbformat": 4,
  "nbformat_minor": 0,
  "metadata": {
    "colab": {
      "provenance": []
    },
    "kernelspec": {
      "name": "python3",
      "display_name": "Python 3"
    },
    "language_info": {
      "name": "python"
    }
  },
  "cells": [
    {
      "cell_type": "code",
      "source": [
        "#  IMPORTAR DATASET + AGREGAR ALTURA (msnm)\n",
        "\n",
        "from google.colab import drive\n",
        "import pandas as pd\n",
        "\n",
        "# Montar Google Drive\n",
        "drive.mount('/content/drive')\n",
        "\n",
        "# Definir ruta de entrada y salida\n",
        "ruta_entrada = \"/content/drive/MyDrive/Datasets_Limpios/MICE.xlsx\"\n",
        "ruta_salida  = \"/content/drive/MyDrive/Datasets_Limpios/MICE_con_altura.xlsx\"\n",
        "\n",
        "# Cargar el dataset\n",
        "df = pd.read_excel(ruta_entrada)\n",
        "print(f\"Archivo cargado con {len(df)} filas y {len(df.columns)} columnas.\")\n",
        "\n",
        "# Diccionario de alturas (msnm) por estación\n",
        "altura_por_estacion = {\n",
        "    \"SURESTE\": 500,\n",
        "    \"NORESTE\": 474,\n",
        "    \"CENTRO\": 562,\n",
        "    \"NOROESTE\": 568,\n",
        "    \"SUROESTE\": 674,\n",
        "    \"NOROESTE2\": 702,\n",
        "    \"NORTE\": 503,\n",
        "    \"NORESTE2\": 432,\n",
        "    \"SURESTE2\": 387,\n",
        "    \"SUROESTE2\": 636,\n",
        "    \"SURESTE3\": 334,\n",
        "    \"SUR\": 555,\n",
        "    \"NORTE2\": 520,\n",
        "    \"NORESTE3\": 346,\n",
        "    \"NOROESTE3\": 607,\n",
        "}\n",
        "\n",
        "# Configuración de columnas\n",
        "col_estacion = \"__hoja\"\n",
        "col_altura   = \"altura_msnm\"\n",
        "\n",
        "# Crear columna si no existe\n",
        "if col_altura not in df.columns:\n",
        "    df[col_altura] = pd.NA\n",
        "\n",
        "# Rellenar solo donde falte y la estación exista en el diccionario\n",
        "mask_faltante = df[col_altura].isna()\n",
        "mask_valida   = df[col_estacion].isin(altura_por_estacion.keys())\n",
        "df.loc[mask_faltante & mask_valida, col_altura] = (\n",
        "    df.loc[mask_faltante & mask_valida, col_estacion].map(altura_por_estacion)\n",
        ")\n",
        "\n",
        "# Validaciones\n",
        "estaciones_df  = set(df[col_estacion].dropna().unique())\n",
        "estaciones_map = set(altura_por_estacion.keys())\n",
        "faltan_en_mapa = sorted(estaciones_df - estaciones_map)\n",
        "sobran_en_mapa = sorted(estaciones_map - estaciones_df)\n",
        "\n",
        "print(\"\\n Estaciones en el dataset sin altura definida en el mapeo:\", faltan_en_mapa)\n",
        "print(\" Estaciones del mapeo que ya no están en el dataset:\", sobran_en_mapa)\n",
        "\n",
        "# resumen\n",
        "print(\"\\nResumen por estación:\\n\")\n",
        "print(df[[col_estacion, col_altura]].drop_duplicates().sort_values(col_estacion))\n",
        "\n",
        "# Guardar\n",
        "df.to_excel(ruta_salida, index=False)\n",
        "print(f\"\\n Archivo guardado en: {ruta_salida}\")\n"
      ],
      "metadata": {
        "colab": {
          "base_uri": "https://localhost:8080/"
        },
        "id": "vfGBU-Xrgnlf",
        "outputId": "f8cfe9e6-b1f8-47fe-ce2b-688840d6578c"
      },
      "execution_count": null,
      "outputs": [
        {
          "output_type": "stream",
          "name": "stdout",
          "text": [
            "Drive already mounted at /content/drive; to attempt to forcibly remount, call drive.mount(\"/content/drive\", force_remount=True).\n",
            "Archivo cargado con 190685 filas y 17 columnas.\n",
            "\n",
            " Estaciones en el dataset sin altura definida en el mapeo: []\n",
            " Estaciones del mapeo que ya no están en el dataset: ['NORESTE3', 'NOROESTE2', 'NOROESTE3', 'SURESTE2', 'SURESTE3']\n",
            "\n",
            "Resumen por estación:\n",
            "\n",
            "           __hoja altura_msnm\n",
            "27740      CENTRO         562\n",
            "13870     NORESTE         474\n",
            "83220    NORESTE2         432\n",
            "41610    NOROESTE         568\n",
            "69350       NORTE         503\n",
            "124830     NORTE2         520\n",
            "110960        SUR         555\n",
            "0         SURESTE         500\n",
            "55480    SUROESTE         674\n",
            "97090   SUROESTE2         636\n",
            "\n",
            " Archivo guardado en: /content/drive/MyDrive/Datasets_Limpios/MICE_con_altura.xlsx\n"
          ]
        }
      ]
    }
  ]
}